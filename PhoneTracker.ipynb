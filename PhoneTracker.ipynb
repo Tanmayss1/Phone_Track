{
 "cells": [
  {
   "cell_type": "code",
   "execution_count": 1,
   "metadata": {},
   "outputs": [
    {
     "name": "stdout",
     "output_type": "stream",
     "text": [
      "Requirement already satisfied: folium in c:\\users\\cflun\\anaconda3\\lib\\site-packages (0.14.0)\n",
      "Requirement already satisfied: jinja2>=2.9 in c:\\users\\cflun\\anaconda3\\lib\\site-packages (from folium) (2.11.3)\n",
      "Requirement already satisfied: numpy in c:\\users\\cflun\\anaconda3\\lib\\site-packages (from folium) (1.22.4)\n",
      "Requirement already satisfied: branca>=0.6.0 in c:\\users\\cflun\\anaconda3\\lib\\site-packages (from folium) (0.6.0)\n",
      "Requirement already satisfied: requests in c:\\users\\cflun\\anaconda3\\lib\\site-packages (from folium) (2.31.0)\n",
      "Requirement already satisfied: MarkupSafe>=0.23 in c:\\users\\cflun\\anaconda3\\lib\\site-packages (from jinja2>=2.9->folium) (2.0.1)\n",
      "Requirement already satisfied: urllib3<3,>=1.21.1 in c:\\users\\cflun\\anaconda3\\lib\\site-packages (from requests->folium) (1.26.9)\n",
      "Requirement already satisfied: idna<4,>=2.5 in c:\\users\\cflun\\anaconda3\\lib\\site-packages (from requests->folium) (3.3)\n",
      "Requirement already satisfied: certifi>=2017.4.17 in c:\\users\\cflun\\anaconda3\\lib\\site-packages (from requests->folium) (2022.12.7)\n",
      "Requirement already satisfied: charset-normalizer<4,>=2 in c:\\users\\cflun\\anaconda3\\lib\\site-packages (from requests->folium) (2.0.4)\n",
      "Note: you may need to restart the kernel to use updated packages.\n"
     ]
    }
   ],
   "source": [
    "#pip install folium"
   ]
  },
  {
   "cell_type": "code",
   "execution_count": 2,
   "metadata": {},
   "outputs": [
    {
     "name": "stdout",
     "output_type": "stream",
     "text": [
      "Requirement already satisfied: phonenumbers in c:\\users\\cflun\\anaconda3\\lib\\site-packages (8.13.22)Note: you may need to restart the kernel to use updated packages.\n",
      "\n"
     ]
    }
   ],
   "source": [
    "#pip install phonenumbers"
   ]
  },
  {
   "cell_type": "code",
   "execution_count": 3,
   "metadata": {},
   "outputs": [
    {
     "name": "stdout",
     "output_type": "stream",
     "text": [
      "Requirement already satisfied: opencage in c:\\users\\cflun\\anaconda3\\lib\\site-packages (2.3.0)\n",
      "Requirement already satisfied: backoff>=2.2.1 in c:\\users\\cflun\\anaconda3\\lib\\site-packages (from opencage) (2.2.1)\n",
      "Requirement already satisfied: Requests>=2.31.0 in c:\\users\\cflun\\anaconda3\\lib\\site-packages (from opencage) (2.31.0)\n",
      "Requirement already satisfied: idna<4,>=2.5 in c:\\users\\cflun\\anaconda3\\lib\\site-packages (from Requests>=2.31.0->opencage) (3.3)\n",
      "Requirement already satisfied: urllib3<3,>=1.21.1 in c:\\users\\cflun\\anaconda3\\lib\\site-packages (from Requests>=2.31.0->opencage) (1.26.9)\n",
      "Requirement already satisfied: charset-normalizer<4,>=2 in c:\\users\\cflun\\anaconda3\\lib\\site-packages (from Requests>=2.31.0->opencage) (2.0.4)\n",
      "Requirement already satisfied: certifi>=2017.4.17 in c:\\users\\cflun\\anaconda3\\lib\\site-packages (from Requests>=2.31.0->opencage) (2022.12.7)\n",
      "Note: you may need to restart the kernel to use updated packages.\n"
     ]
    }
   ],
   "source": [
    "#pip install opencage"
   ]
  },
  {
   "cell_type": "code",
   "execution_count": 4,
   "metadata": {},
   "outputs": [],
   "source": [
    "import phonenumbers\n",
    "from phonenumbers import geocoder\n",
    "from phonenumbers import carrier\n",
    "import folium\n",
    "from opencage.geocoder import OpenCageGeocode\n"
   ]
  },
  {
   "cell_type": "code",
   "execution_count": 5,
   "metadata": {},
   "outputs": [],
   "source": []
  },
  {
   "cell_type": "code",
   "execution_count": 6,
   "metadata": {},
   "outputs": [
    {
     "name": "stdout",
     "output_type": "stream",
     "text": [
      "location : India\n",
      "service provider : Airtel\n"
     ]
    },
    {
     "ename": "NotAuthorizedError",
     "evalue": "Your API key is not authorized. You may have entered it incorrectly.",
     "output_type": "error",
     "traceback": [
      "\u001b[1;31m---------------------------------------------------------------------------\u001b[0m",
      "\u001b[1;31mNotAuthorizedError\u001b[0m                        Traceback (most recent call last)",
      "\u001b[1;32mc:\\Users\\cflun\\Desktop\\Data Analyst 2023\\Git Repo\\PhoneTracker\\Phone_Track\\PhoneTracker.ipynb Cell 6\u001b[0m line \u001b[0;36m<cell line: 20>\u001b[1;34m()\u001b[0m\n\u001b[0;32m     <a href='vscode-notebook-cell:/c%3A/Users/cflun/Desktop/Data%20Analyst%202023/Git%20Repo/PhoneTracker/Phone_Track/PhoneTracker.ipynb#X16sZmlsZQ%3D%3D?line=17'>18</a>\u001b[0m geocoder \u001b[39m=\u001b[39m OpenCageGeocode(Key)\n\u001b[0;32m     <a href='vscode-notebook-cell:/c%3A/Users/cflun/Desktop/Data%20Analyst%202023/Git%20Repo/PhoneTracker/Phone_Track/PhoneTracker.ipynb#X16sZmlsZQ%3D%3D?line=18'>19</a>\u001b[0m query \u001b[39m=\u001b[39m \u001b[39mstr\u001b[39m(yourLocation)\n\u001b[1;32m---> <a href='vscode-notebook-cell:/c%3A/Users/cflun/Desktop/Data%20Analyst%202023/Git%20Repo/PhoneTracker/Phone_Track/PhoneTracker.ipynb#X16sZmlsZQ%3D%3D?line=19'>20</a>\u001b[0m results \u001b[39m=\u001b[39m geocoder\u001b[39m.\u001b[39;49mgeocode(query)\n\u001b[0;32m     <a href='vscode-notebook-cell:/c%3A/Users/cflun/Desktop/Data%20Analyst%202023/Git%20Repo/PhoneTracker/Phone_Track/PhoneTracker.ipynb#X16sZmlsZQ%3D%3D?line=21'>22</a>\u001b[0m \u001b[39m# Assigning the latitude and longitude values to the lat and lng variables\u001b[39;00m\n\u001b[0;32m     <a href='vscode-notebook-cell:/c%3A/Users/cflun/Desktop/Data%20Analyst%202023/Git%20Repo/PhoneTracker/Phone_Track/PhoneTracker.ipynb#X16sZmlsZQ%3D%3D?line=22'>23</a>\u001b[0m lat \u001b[39m=\u001b[39m results[\u001b[39m0\u001b[39m][\u001b[39m'\u001b[39m\u001b[39mgeometry\u001b[39m\u001b[39m'\u001b[39m][\u001b[39m'\u001b[39m\u001b[39mlat\u001b[39m\u001b[39m'\u001b[39m]\n",
      "File \u001b[1;32mc:\\Users\\cflun\\anaconda3\\lib\\site-packages\\opencage\\geocoder.py:173\u001b[0m, in \u001b[0;36mOpenCageGeocode.geocode\u001b[1;34m(self, query, **kwargs)\u001b[0m\n\u001b[0;32m    170\u001b[0m     \u001b[39mraise\u001b[39;00m AioHttpError(\u001b[39m\"\u001b[39m\u001b[39mCannot use `geocode` in an async context, use `gecode_async`.\u001b[39m\u001b[39m\"\u001b[39m)\n\u001b[0;32m    172\u001b[0m request \u001b[39m=\u001b[39m \u001b[39mself\u001b[39m\u001b[39m.\u001b[39m_parse_request(query, kwargs)\n\u001b[1;32m--> 173\u001b[0m response \u001b[39m=\u001b[39m \u001b[39mself\u001b[39;49m\u001b[39m.\u001b[39;49m_opencage_request(request)\n\u001b[0;32m    175\u001b[0m \u001b[39mreturn\u001b[39;00m floatify_latlng(response[\u001b[39m'\u001b[39m\u001b[39mresults\u001b[39m\u001b[39m'\u001b[39m])\n",
      "File \u001b[1;32mc:\\Users\\cflun\\anaconda3\\lib\\site-packages\\backoff\\_sync.py:105\u001b[0m, in \u001b[0;36mretry_exception.<locals>.retry\u001b[1;34m(*args, **kwargs)\u001b[0m\n\u001b[0;32m     96\u001b[0m details \u001b[39m=\u001b[39m {\n\u001b[0;32m     97\u001b[0m     \u001b[39m\"\u001b[39m\u001b[39mtarget\u001b[39m\u001b[39m\"\u001b[39m: target,\n\u001b[0;32m     98\u001b[0m     \u001b[39m\"\u001b[39m\u001b[39margs\u001b[39m\u001b[39m\"\u001b[39m: args,\n\u001b[1;32m   (...)\u001b[0m\n\u001b[0;32m    101\u001b[0m     \u001b[39m\"\u001b[39m\u001b[39melapsed\u001b[39m\u001b[39m\"\u001b[39m: elapsed,\n\u001b[0;32m    102\u001b[0m }\n\u001b[0;32m    104\u001b[0m \u001b[39mtry\u001b[39;00m:\n\u001b[1;32m--> 105\u001b[0m     ret \u001b[39m=\u001b[39m target(\u001b[39m*\u001b[39margs, \u001b[39m*\u001b[39m\u001b[39m*\u001b[39mkwargs)\n\u001b[0;32m    106\u001b[0m \u001b[39mexcept\u001b[39;00m exception \u001b[39mas\u001b[39;00m e:\n\u001b[0;32m    107\u001b[0m     max_tries_exceeded \u001b[39m=\u001b[39m (tries \u001b[39m==\u001b[39m max_tries_value)\n",
      "File \u001b[1;32mc:\\Users\\cflun\\anaconda3\\lib\\site-packages\\opencage\\geocoder.py:252\u001b[0m, in \u001b[0;36mOpenCageGeocode._opencage_request\u001b[1;34m(self, params)\u001b[0m\n\u001b[0;32m    249\u001b[0m     \u001b[39mraise\u001b[39;00m UnknownError(\u001b[39m\"\u001b[39m\u001b[39mNon-JSON result from server\u001b[39m\u001b[39m\"\u001b[39m) \u001b[39mfrom\u001b[39;00m \u001b[39mexcinfo\u001b[39;00m\n\u001b[0;32m    251\u001b[0m \u001b[39mif\u001b[39;00m response\u001b[39m.\u001b[39mstatus_code \u001b[39m==\u001b[39m \u001b[39m401\u001b[39m:\n\u001b[1;32m--> 252\u001b[0m     \u001b[39mraise\u001b[39;00m NotAuthorizedError()\n\u001b[0;32m    254\u001b[0m \u001b[39mif\u001b[39;00m response\u001b[39m.\u001b[39mstatus_code \u001b[39m==\u001b[39m \u001b[39m403\u001b[39m:\n\u001b[0;32m    255\u001b[0m     \u001b[39mraise\u001b[39;00m ForbiddenError()\n",
      "\u001b[1;31mNotAuthorizedError\u001b[0m: Your API key is not authorized. You may have entered it incorrectly."
     ]
    }
   ],
   "source": [
    " # taking input the phonenumber along with the country code\n",
    "number = input(\"Enter the PhoneNumber with the country code : \")\n",
    "# Parsing the phonenumber string to convert it into phonenumber format\n",
    "phoneNumber = phonenumbers.parse(number)\n",
    " \n",
    "# Storing the API Key in the Key variable\n",
    "Key = \"asdsadas2342nk3242ioklasd2342kml4m2A\" #generate your api https://opencagedata.com/api\n",
    " \n",
    "# Using the geocoder module of phonenumbers to print the Location in console\n",
    "yourLocation = geocoder.description_for_number(phoneNumber,\"en\")\n",
    "print(\"location : \"+yourLocation)\n",
    " \n",
    "# Using the carrier module of phonenumbers to print the service provider name in console\n",
    "yourServiceProvider = carrier.name_for_number(phoneNumber,\"en\")\n",
    "print(\"service provider : \"+yourServiceProvider)\n",
    " \n",
    "# Using opencage to get the latitude and longitude of the location\n",
    "geocoder = OpenCageGeocode(Key)\n",
    "query = str(yourLocation)\n",
    "results = geocoder.geocode(query)\n",
    " \n",
    "# Assigning the latitude and longitude values to the lat and lng variables\n",
    "lat = results[0]['geometry']['lat']\n",
    "lng = results[0]['geometry']['lng']\n",
    " \n",
    "# Getting the map for the given latitude and longitude\n",
    "myMap = folium.Map(loction=[lat,lng],zoom_start = 9)\n",
    " \n",
    "# Adding a Marker on the map to show the location name\n",
    "folium.Marker([lat,lng],popup=yourLocation).add_to(myMap)\n",
    " \n",
    "# save map to html file to open it and see the actual location in map format\n",
    "myMap.save(\"Location.html\")"
   ]
  },
  {
   "cell_type": "code",
   "execution_count": null,
   "metadata": {},
   "outputs": [],
   "source": []
  }
 ],
 "metadata": {
  "kernelspec": {
   "display_name": "base",
   "language": "python",
   "name": "python3"
  },
  "language_info": {
   "codemirror_mode": {
    "name": "ipython",
    "version": 3
   },
   "file_extension": ".py",
   "mimetype": "text/x-python",
   "name": "python",
   "nbconvert_exporter": "python",
   "pygments_lexer": "ipython3",
   "version": "3.9.12"
  },
  "orig_nbformat": 4
 },
 "nbformat": 4,
 "nbformat_minor": 2
}
